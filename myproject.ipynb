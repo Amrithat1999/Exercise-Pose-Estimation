{
  "cells": [
    {
      "cell_type": "code",
      "execution_count": null,
      "metadata": {
        "id": "ovNbPe_Ar5hw"
      },
      "outputs": [],
      "source": [
        "from glob import glob"
      ]
    },
    {
      "cell_type": "markdown",
      "source": [
        "# Load Dataset\n"
      ],
      "metadata": {
        "id": "gfSz9c1adnOW"
      }
    },
    {
      "cell_type": "code",
      "execution_count": null,
      "metadata": {
        "colab": {
          "base_uri": "https://localhost:8080/"
        },
        "id": "ZZmrQGCnsRiA",
        "outputId": "5bee3be5-af1f-4b43-9095-85a9966e8eb1"
      },
      "outputs": [
        {
          "output_type": "execute_result",
          "data": {
            "text/plain": [
              "['/content/drive/MyDrive/excercise dataset/squats',\n",
              " '/content/drive/MyDrive/excercise dataset/side planks',\n",
              " '/content/drive/MyDrive/excercise dataset/push up',\n",
              " '/content/drive/MyDrive/excercise dataset/skipping']"
            ]
          },
          "metadata": {},
          "execution_count": 11
        }
      ],
      "source": [
        "path='/content/drive/MyDrive/excercise dataset'\n",
        "image=glob(path+'/*')\n",
        "image"
      ]
    },
    {
      "cell_type": "markdown",
      "source": [
        "# Access each file \n"
      ],
      "metadata": {
        "id": "5qSo17HqeirX"
      }
    },
    {
      "cell_type": "code",
      "execution_count": null,
      "metadata": {
        "id": "PFqK3uutsRcr"
      },
      "outputs": [],
      "source": [
        "squats_list=list(glob(path+'/squats/*'))[:600]\n",
        "planks_list=list(glob(path+'/side planks/*'))[:600]\n",
        "pushup_list=list(glob(path+'/push up/*'))[:600]\n",
        "skipping_list=list(glob(path+'/skipping/*'))[:600]\n"
      ]
    },
    {
      "cell_type": "markdown",
      "source": [
        "# Check datas length"
      ],
      "metadata": {
        "id": "9gNvXRxreo6f"
      }
    },
    {
      "cell_type": "code",
      "execution_count": null,
      "metadata": {
        "colab": {
          "base_uri": "https://localhost:8080/"
        },
        "id": "WkhDvVfUsRbM",
        "outputId": "392316e2-f639-45de-823f-4e2e46debb0e"
      },
      "outputs": [
        {
          "output_type": "stream",
          "name": "stdout",
          "text": [
            "600\n",
            "600\n",
            "600\n",
            "600\n"
          ]
        }
      ],
      "source": [
        "print(len(squats_list))\n",
        "print(len(planks_list))\n",
        "print(len(pushup_list))\n",
        "print(len(skipping_list))"
      ]
    },
    {
      "cell_type": "code",
      "execution_count": null,
      "metadata": {
        "id": "IN5j0HUHsRVB"
      },
      "outputs": [],
      "source": [
        "input_map={'squats':squats_list,'side planks':planks_list,'push up':pushup_list,'skipping':skipping_list}\n",
        "output_map={'squats':0,'side planks':1,'push up':2,'skipping':3}"
      ]
    },
    {
      "cell_type": "code",
      "execution_count": null,
      "metadata": {
        "id": "MsmMpwAQsRQN"
      },
      "outputs": [],
      "source": [
        "x=[]\n",
        "y=[]\n"
      ]
    },
    {
      "cell_type": "code",
      "execution_count": null,
      "metadata": {
        "id": "occH25j1vu3C"
      },
      "outputs": [],
      "source": [
        "import cv2\n",
        "import numpy as np\n"
      ]
    },
    {
      "cell_type": "code",
      "execution_count": null,
      "metadata": {
        "id": "zOMLrmaKAWFp"
      },
      "outputs": [],
      "source": [
        "for img in input_map:\n",
        "  path_list=input_map[img]\n",
        "  #print(path_list)\n",
        "  for path in path_list:\n",
        "    img_array=cv2.imread(path)\n",
        "    #print(img_array)\n",
        "    img_array_resize=cv2.resize(img_array,(224,224))\n",
        "    img_array_resize=img_array_resize/255\n",
        "    img_array_resize=img_array_resize.reshape(224,224,3,1)\n",
        "    x.append(img_array_resize)\n",
        "    y.append(output_map[img])\n",
        "    "
      ]
    },
    {
      "cell_type": "code",
      "execution_count": null,
      "metadata": {
        "id": "4QunYZJeAWEF"
      },
      "outputs": [],
      "source": [
        "x_=np.array(x)"
      ]
    },
    {
      "cell_type": "code",
      "execution_count": null,
      "metadata": {
        "id": "ZhiZo6n7PBty"
      },
      "outputs": [],
      "source": [
        "y_=np.array(y)"
      ]
    },
    {
      "cell_type": "code",
      "execution_count": null,
      "metadata": {
        "colab": {
          "base_uri": "https://localhost:8080/"
        },
        "id": "n1JA302oPE4T",
        "outputId": "62acbcf4-8c90-4c74-9165-f574cb182e85"
      },
      "outputs": [
        {
          "output_type": "execute_result",
          "data": {
            "text/plain": [
              "(1600, 224, 224, 3, 1)"
            ]
          },
          "metadata": {},
          "execution_count": 14
        }
      ],
      "source": [
        "x_.shape"
      ]
    },
    {
      "cell_type": "code",
      "execution_count": null,
      "metadata": {
        "colab": {
          "base_uri": "https://localhost:8080/"
        },
        "id": "HzISnVtNPHO5",
        "outputId": "01595768-7bd5-4011-8ce7-7056b5d69aaf"
      },
      "outputs": [
        {
          "output_type": "execute_result",
          "data": {
            "text/plain": [
              "(1600,)"
            ]
          },
          "metadata": {},
          "execution_count": 15
        }
      ],
      "source": [
        "y_.shape"
      ]
    },
    {
      "cell_type": "code",
      "execution_count": null,
      "metadata": {
        "id": "pJ_XqoEtPNDp"
      },
      "outputs": [],
      "source": [
        "from sklearn.model_selection import train_test_split\n",
        "xtrain,xtest,ytrain,ytest=train_test_split(x_,y_,test_size=0.2)"
      ]
    },
    {
      "cell_type": "code",
      "execution_count": null,
      "metadata": {
        "id": "8AZ4Sf_iPaDj"
      },
      "outputs": [],
      "source": [
        "from tensorflow.keras.layers import Flatten,Dense,Conv3D,MaxPool3D,BatchNormalization,Dropout\n",
        "from tensorflow.keras.losses import SparseCategoricalCrossentropy\n",
        "from tensorflow.keras.optimizers import Adam\n",
        "from tensorflow.keras import Sequential"
      ]
    },
    {
      "cell_type": "code",
      "execution_count": null,
      "metadata": {
        "id": "wt1diMrOPzYF"
      },
      "outputs": [],
      "source": [
        "model=Sequential()\n",
        "model.add(Conv3D(filters=32,kernel_size=(2,2,3),input_shape=(224,224,3,1)))\n",
        "model.add(MaxPool3D(pool_size=(2,2,1)))\n",
        "model.add(BatchNormalization())\n",
        "model.add(Conv3D(filters=20,kernel_size=(2,2,1),activation='relu'))\n",
        "model.add(MaxPool3D(pool_size=(2,2,1)))\n",
        "model.add(BatchNormalization())\n",
        "\n",
        "\n",
        "model.add(Flatten())\n",
        "model.add(Dense(units=150,activation='relu'))\n",
        "model.add(Dropout(0.2))\n",
        "model.add(Dense(units=4,activation='softmax'))"
      ]
    },
    {
      "cell_type": "code",
      "execution_count": null,
      "metadata": {
        "colab": {
          "base_uri": "https://localhost:8080/"
        },
        "id": "1IjhIr-oP5DA",
        "outputId": "3b1091ee-07cc-4c82-88d4-0fc17a4a8349"
      },
      "outputs": [
        {
          "output_type": "stream",
          "name": "stdout",
          "text": [
            "Model: \"sequential\"\n",
            "_________________________________________________________________\n",
            " Layer (type)                Output Shape              Param #   \n",
            "=================================================================\n",
            " conv3d (Conv3D)             (None, 223, 223, 1, 32)   416       \n",
            "                                                                 \n",
            " max_pooling3d (MaxPooling3D  (None, 111, 111, 1, 32)  0         \n",
            " )                                                               \n",
            "                                                                 \n",
            " batch_normalization (BatchN  (None, 111, 111, 1, 32)  128       \n",
            " ormalization)                                                   \n",
            "                                                                 \n",
            " conv3d_1 (Conv3D)           (None, 110, 110, 1, 20)   2580      \n",
            "                                                                 \n",
            " max_pooling3d_1 (MaxPooling  (None, 55, 55, 1, 20)    0         \n",
            " 3D)                                                             \n",
            "                                                                 \n",
            " batch_normalization_1 (Batc  (None, 55, 55, 1, 20)    80        \n",
            " hNormalization)                                                 \n",
            "                                                                 \n",
            " flatten (Flatten)           (None, 60500)             0         \n",
            "                                                                 \n",
            " dense (Dense)               (None, 150)               9075150   \n",
            "                                                                 \n",
            " dropout (Dropout)           (None, 150)               0         \n",
            "                                                                 \n",
            " dense_1 (Dense)             (None, 4)                 604       \n",
            "                                                                 \n",
            "=================================================================\n",
            "Total params: 9,078,958\n",
            "Trainable params: 9,078,854\n",
            "Non-trainable params: 104\n",
            "_________________________________________________________________\n"
          ]
        }
      ],
      "source": [
        "model.summary()\n"
      ]
    },
    {
      "cell_type": "code",
      "execution_count": null,
      "metadata": {
        "id": "LCfZl96KQCW8"
      },
      "outputs": [],
      "source": [
        "model.compile(loss=SparseCategoricalCrossentropy(),optimizer=Adam(),metrics=['accuracy'])\n"
      ]
    },
    {
      "cell_type": "code",
      "execution_count": null,
      "metadata": {
        "colab": {
          "base_uri": "https://localhost:8080/"
        },
        "id": "9BkXJv7CQHNV",
        "outputId": "939c24bf-1fe3-4756-b7ac-96e7e98a23c6"
      },
      "outputs": [
        {
          "output_type": "stream",
          "name": "stdout",
          "text": [
            "Epoch 1/5\n",
            "7/7 [==============================] - 20s 1s/step - loss: 0.8704 - accuracy: 0.8906 - val_loss: 13.7519 - val_accuracy: 0.2438\n",
            "Epoch 2/5\n",
            "7/7 [==============================] - 4s 632ms/step - loss: 0.0155 - accuracy: 0.9969 - val_loss: 8.2793 - val_accuracy: 0.4625\n",
            "Epoch 3/5\n",
            "7/7 [==============================] - 4s 590ms/step - loss: 0.0000e+00 - accuracy: 1.0000 - val_loss: 7.5528 - val_accuracy: 0.3906\n",
            "Epoch 4/5\n",
            "7/7 [==============================] - 4s 598ms/step - loss: 9.3132e-11 - accuracy: 1.0000 - val_loss: 5.8086 - val_accuracy: 0.3906\n",
            "Epoch 5/5\n",
            "7/7 [==============================] - 4s 573ms/step - loss: 0.0000e+00 - accuracy: 1.0000 - val_loss: 4.1832 - val_accuracy: 0.3875\n"
          ]
        }
      ],
      "source": [
        "h=model.fit(xtrain,ytrain,batch_size=200,epochs=5,validation_data=(xtest,ytest))\n"
      ]
    },
    {
      "cell_type": "code",
      "execution_count": null,
      "metadata": {
        "colab": {
          "base_uri": "https://localhost:8080/",
          "height": 312
        },
        "id": "FrvSuASwQJxu",
        "outputId": "ffabb6eb-d037-49f1-bfdc-dbe913c7781a"
      },
      "outputs": [
        {
          "output_type": "execute_result",
          "data": {
            "text/plain": [
              "<matplotlib.legend.Legend at 0x7fe7501eb910>"
            ]
          },
          "metadata": {},
          "execution_count": 29
        },
        {
          "output_type": "display_data",
          "data": {
            "image/png": "[encoded data removed]",
            "text/plain": [
              "<Figure size 432x288 with 1 Axes>"
            ]
          },
          "metadata": {
            "needs_background": "light"
          }
        }
      ],
      "source": [
        "import matplotlib.pyplot as plt\n",
        "train_acc=h.history['accuracy']\n",
        "val_acc=h.history['val_accuracy']\n",
        "epoch=h.epoch\n",
        "\n",
        "plt.plot(epoch,train_acc,label=['training accuracy'])\n",
        "plt.plot(epoch,val_acc,label=['validation accuracy'])\n",
        "plt.xlabel('epoch')\n",
        "plt.ylabel('accuracy')\n",
        "plt.title('accuracy learning curve')\n",
        "plt.legend()"
      ]
    },
    {
      "cell_type": "code",
      "execution_count": null,
      "metadata": {
        "colab": {
          "base_uri": "https://localhost:8080/",
          "height": 312
        },
        "id": "0z8HpPqTRG7-",
        "outputId": "803dd838-577d-4071-d5ca-79e604e6861b"
      },
      "outputs": [
        {
          "output_type": "execute_result",
          "data": {
            "text/plain": [
              "<matplotlib.legend.Legend at 0x7fe6e321a350>"
            ]
          },
          "metadata": {},
          "execution_count": 30
        },
        {
          "output_type": "display_data",
          "data": {
            "image/png": "[encoded data removed]",
            "text/plain": [
              "<Figure size 432x288 with 1 Axes>"
            ]
          },
          "metadata": {
            "needs_background": "light"
          }
        }
      ],
      "source": [
        "train_loss=h.history['loss']\n",
        "val_loss=h.history['val_loss']\n",
        "epoch=h.epoch\n",
        "\n",
        "plt.plot(epoch,train_loss,label=['training loss'])\n",
        "plt.plot(epoch,val_loss,label=['validation loss'])\n",
        "plt.xlabel('epoch')\n",
        "plt.ylabel('loss')\n",
        "plt.title('loss learning curve')\n",
        "plt.legend()"
      ]
    },
    {
      "cell_type": "code",
      "execution_count": null,
      "metadata": {
        "id": "lXw6m40yRNZ8"
      },
      "outputs": [],
      "source": [
        "from PIL import Image\n"
      ]
    },
    {
      "cell_type": "code",
      "execution_count": null,
      "metadata": {
        "colab": {
          "base_uri": "https://localhost:8080/",
          "height": 200
        },
        "id": "kzxkD8ehRUUh",
        "outputId": "a5f98112-47d5-4d8c-a30a-7832e90d8069"
      },
      "outputs": [
        {
          "output_type": "execute_result",
          "data": {
            "image/png": "[encoded data removed]",
            "text/plain": [
              "<PIL.JpegImagePlugin.JpegImageFile image mode=RGB size=275x183 at 0x7FE750070610>"
            ]
          },
          "metadata": {},
          "execution_count": 25
        }
      ],
      "source": [
        "Image.open('/content/drive/MyDrive/excercise dataset/push up/images - Copy (10) - Copy - Copy - Copy.jpg')"
      ]
    },
    {
      "cell_type": "code",
      "execution_count": null,
      "metadata": {
        "colab": {
          "base_uri": "https://localhost:8080/"
        },
        "id": "Qj6xckrqRqUl",
        "outputId": "9d9376f0-e3af-48e1-f6a3-fc919b54c7df"
      },
      "outputs": [
        {
          "output_type": "execute_result",
          "data": {
            "text/plain": [
              "2"
            ]
          },
          "metadata": {},
          "execution_count": 26
        }
      ],
      "source": [
        "i_array=cv2.imread('/content/drive/MyDrive/excercise dataset/push up/images - Copy (10) - Copy - Copy - Copy.jpg')\n",
        "dataset=[]\n",
        "i_array=cv2.resize(i_array,(224,224))\n",
        "#i_array.shape\n",
        "np.max(i_array)\n",
        "i_array=i_array/255\n",
        "i_array=i_array.reshape(224,224,3,1)\n",
        "dataset.append(i_array)\n",
        "test=np.array(dataset)\n",
        "test.shape\n",
        "result=model.predict(test)\n",
        "np.argmax(result)"
      ]
    },
    {
      "cell_type": "code",
      "execution_count": null,
      "metadata": {
        "id": "2nniDa8kR7XS"
      },
      "outputs": [],
      "source": [
        "from tensorflow.keras.models import load_model\n"
      ]
    },
    {
      "cell_type": "code",
      "execution_count": null,
      "metadata": {
        "id": "Sk1Tp-tKSIL8"
      },
      "outputs": [],
      "source": [
        "model.save('exercise_model.h5')\n"
      ]
    },
    {
      "cell_type": "code",
      "execution_count": null,
      "metadata": {
        "id": "qP7b2iUtSXSz"
      },
      "outputs": [],
      "source": [
        ""
      ]
    }
  ],
  "metadata": {
    "accelerator": "GPU",
    "colab": {
      "name": "myproject.ipynb",
      "provenance": [],
      "toc_visible": true
    },
    "kernelspec": {
      "display_name": "Python 3",
      "name": "python3"
    },
    "language_info": {
      "name": "python"
    }
  },
  "nbformat": 4,
  "nbformat_minor": 0
}